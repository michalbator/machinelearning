{
 "cells": [
  {
   "cell_type": "markdown",
   "metadata": {},
   "source": [
    "# NLP Exercises\n",
    "\n",
    "We have five exercises in this section. The exercises are:\n",
    "1. Build your own tokenizer, where you need to implement two functions to implement a tokenizer based on regular expression.\n",
    "2. Get tags from Trump speech.\n",
    "3. Get the nouns in the last 10 sentences from Trump's speech and find the nouns divided by sentencens. Use SpaCy.\n",
    "4. Build your own Bag Of Words implementation using tokenizer created before.\n",
    "5. Build a 5-gram model and clean up the results."
   ]
  },
  {
   "cell_type": "markdown",
   "metadata": {},
   "source": [
    "## Exercise 1. Build your own tokenizer\n",
    "\n",
    "Build two different tokenizers:\n",
    "- ``tokenize_sentence``: function tokenizing text into sentences,\n",
    "- ``tokenize_word``: function tokenizing text into words."
   ]
  },
  {
   "cell_type": "code",
   "execution_count": 24,
   "metadata": {},
   "outputs": [
    {
     "name": "stdout",
     "output_type": "stream",
     "text": [
      "Tokenized sentences:\n",
      "['Here we go again.', \"I was supposed to add this text later.Well, it's 10.p.m. here, and I'm actually having fun making this course.\", ':oI hope you are getting along fine with this presentation, I really did try.And one last sentence, just so you can test you tokenizers better.']\n",
      "Tokenized words:\n",
      "['Here', 'we', 'go', 'again', 'I', 'was', 'supposed', 'to', 'add', 'this', 'text', 'laterWell', \"it's\", '10pm', 'here', 'and', \"I'm\", 'actually', 'having', 'fun', 'making', 'this', 'course', 'oI', 'hope', 'you', 'are', 'getting', 'along', 'fine', 'with', 'this', 'presentation', 'I', 'really', 'did', 'tryAnd', 'one', 'last', 'sentence', 'just', 'so', 'you', 'can', 'test', 'you', 'tokenizers', 'better']\n"
     ]
    }
   ],
   "source": [
    "from typing import List\n",
    "import re\n",
    "\n",
    "def tokenize_words(text: str) -> list:\n",
    "    \"\"\"Tokenize text into words using regex.\n",
    "\n",
    "    Parameters\n",
    "    ----------\n",
    "    text: str\n",
    "            Text to be tokenized\n",
    "\n",
    "    Returns\n",
    "    -------\n",
    "    List[str]\n",
    "            List containing words tokenized from text\n",
    "\n",
    "    \"\"\"\n",
    "    for char in [\",\", \":\", \".\"]:\n",
    "        text = text.replace(char, \"\")\n",
    "        \n",
    "    words = re.split(\" \", text)\n",
    "    return words\n",
    "\n",
    "def tokenize_sentence(text: str) -> list:\n",
    "    \"\"\"Tokenize text into words using regex.\n",
    "\n",
    "    Parameters\n",
    "    ----------\n",
    "    text: str\n",
    "            Text to be tokenized\n",
    "\n",
    "    Returns\n",
    "    -------\n",
    "    List[str]\n",
    "            List containing words tokenized from text\n",
    "\n",
    "    \"\"\"\n",
    "    reg_text = re.compile(\"(?<!\\w\\.\\w.)(?<![A-Z][a-z]\\.)(?<=\\.|\\?)\\s\")\n",
    "    sentences = reg_text.split(text)\n",
    "    return sentences\n",
    "\n",
    "text = \"Here we go again. I was supposed to add this text later.\\\n",
    "Well, it's 10.p.m. here, and I'm actually having fun making this course. :o\\\n",
    "I hope you are getting along fine with this presentation, I really did try.\\\n",
    "And one last sentence, just so you can test you tokenizers better.\"\n",
    "\n",
    "print(\"Tokenized sentences:\")\n",
    "print(tokenize_sentence(text))\n",
    "\n",
    "print(\"Tokenized words:\")\n",
    "print(tokenize_words(text))"
   ]
  },
  {
   "cell_type": "markdown",
   "metadata": {},
   "source": [
    "## Exercise 2. Get tags from Trump speech using NLTK\n",
    "\n",
    "You should use the ``trump.txt`` file, read it and find the tags for each word. Use NLTK for it."
   ]
  },
  {
   "cell_type": "code",
   "execution_count": 25,
   "metadata": {},
   "outputs": [
    {
     "name": "stdout",
     "output_type": "stream",
     "text": [
      "[('Thank', 'NNP'), ('you', 'PRP'), ('everybody', 'VBP'), ('Thank', 'VB'), ('you', 'PRP'), ('Thank', 'NNP'), ('you', 'PRP'), ('very', 'RB'), ('much', 'RB'), ('Thank', 'NNP'), ('you', 'PRP'), ('Matt', 'NNP'), ('for', 'IN'), ('that', 'DT'), ('great', 'JJ'), ('introduction', 'NN'), ('And', 'CC'), ('thank', 'NN'), ('you', 'PRP'), ('for', 'IN'), ('this', 'DT'), ('big', 'JJ'), ('crowd', 'NN'), ('This', 'DT'), ('is', 'VBZ'), ('incredible', 'JJ'), ('Really', 'RB'), ('incredible', 'JJ'), ('We', 'PRP'), ('have', 'VBP'), ('all', 'DT'), ('come', 'VBP'), ('a', 'DT'), ('long', 'JJ'), ('way', 'NN'), ('together', 'RB'), ('We', 'PRP'), ('have', 'VBP'), ('come', 'VBN'), ('a', 'DT'), ('long', 'JJ'), ('way', 'NN'), ('together', 'RB'), ('I', 'PRP'), ('m', 'VBP'), ('thrilled', 'VBN'), ('to', 'TO'), ('be', 'VB'), ('back', 'RB'), ('at', 'IN')]\n"
     ]
    }
   ],
   "source": [
    "from nltk import pos_tag as get_tags\n",
    "from nltk.tokenize import word_tokenize\n",
    "file = open(\"./datasets/trump.txt\", \"r\",encoding=\"utf-8\") \n",
    "trump = file.read()\n",
    "words = word_tokenize(trump)\n",
    "words=[word for word in words if word.isalpha()]\n",
    "tags = get_tags(words)\n",
    "print(tags[:50]) #print part of words"
   ]
  },
  {
   "cell_type": "markdown",
   "metadata": {},
   "source": [
    "## Exercise 3. Get the nouns in the last 10 sentences from Trump's speech and find the nouns divided by sentencens. Use SpaCy.\n",
    "\n",
    "Please use Python list features to get the last 10 sentences and display nouns from it."
   ]
  },
  {
   "cell_type": "code",
   "execution_count": 5,
   "metadata": {},
   "outputs": [
    {
     "name": "stdout",
     "output_type": "stream",
     "text": [
      "Sentence:  Hopefully something positive can happen.\n",
      "\t something\n",
      "\n",
      "Sentence:  But that just was announced and I wanted to let you know.\n",
      "\t I\n",
      "\t you\n",
      "\n",
      "Sentence:  We have imposed the heaviest sanctions ever imposed.\n",
      "\t We\n",
      "\t the heaviest sanctions\n",
      "\n",
      "Sentence:  So ladies and gentlemen, thank you for everything.\n",
      "\t ladies\n",
      "\t gentlemen\n",
      "\t you\n",
      "\t everything\n",
      "\n",
      "Sentence:  You’ve been incredible partners.\n",
      "\t You\n",
      "\t incredible partners\n",
      "\n",
      "Sentence:  Incredible partners.\n",
      "\t Incredible partners\n",
      "\n",
      "Sentence:  And I will let you know in the absolute strongest of terms, we’re going to make America great again\n",
      "\t I\n",
      "\t you\n",
      "\t terms\n",
      "\t we\n",
      "\t America\n",
      "\n",
      "Sentence:  and I will never, ever, ever let you down.\n",
      "\t I\n",
      "\t you\n",
      "\n",
      "Sentence:  Thank you very much.\n",
      "\t you\n",
      "\n",
      "Sentence:  Thank you.\n",
      "\n",
      "\t you\n",
      "\n"
     ]
    }
   ],
   "source": [
    "import spacy\n",
    "import sys\n",
    "file = open(\"./datasets/trump.txt\", \"r\",encoding='utf-8') \n",
    "trump = file.read() \n",
    "\n",
    "nlp = spacy.load(\"en_core_web_sm\")\n",
    "text = nlp(trump)\n",
    "\n",
    "sentences = list(text.sents)[-10:]\n",
    "\n",
    "for sentence in sentences:\n",
    "    print(\"Sentence: \", sentence)\n",
    "    for nouns in list(sentence.noun_chunks):\n",
    "        print(\"\\t\", nouns)\n",
    "    print()"
   ]
  },
  {
   "cell_type": "markdown",
   "metadata": {},
   "source": [
    "## Exercise 4. Build your own Bag Of Words implementation using tokenizer created before \n",
    "\n",
    "You need to implement following methods:\n",
    "\n",
    "- ``fit_transform`` - gets a list of strings and returns matrix with it's BoW representation\n",
    "- ``get_features_names`` - returns list of words corresponding to columns in BoW"
   ]
  },
  {
   "cell_type": "code",
   "execution_count": 35,
   "metadata": {},
   "outputs": [
    {
     "name": "stdout",
     "output_type": "stream",
     "text": [
      "[1, 1, 1, 2, 1, 1, 1, 1, 1, 1, 1, 4, 2, 2, 1, 1, 1, 1, 1, 3, 1, 1, 1, 1, 1, 1, 1, 1, 1, 1, 1, 1, 2, 2, 1]\n",
      "['Bag', 'Of', 'Words', 'is', 'based', 'on', 'countingwords', 'occurences', 'throughout', 'multiple', 'documents', '.', 'This', 'the', 'third', 'document', 'As', 'you', 'can', 'see', 'most', 'of', 'words', 'occur', 'only', 'once', 'gives', 'us', 'a', 'pretty', 'sparse', 'matrix', ',', 'below', 'Really']\n"
     ]
    },
    {
     "data": {
      "text/plain": [
       "35"
      ]
     },
     "execution_count": 35,
     "metadata": {},
     "output_type": "execute_result"
    }
   ],
   "source": [
    "import numpy as np\n",
    "import spacy\n",
    "from collections import Counter\n",
    "\n",
    "class BagOfWords:\n",
    "    \"\"\"Basic BoW implementation.\"\"\"\n",
    "    \n",
    "    __nlp = spacy.load(\"en_core_web_sm\")\n",
    "    __bow_list = []\n",
    "    \n",
    "    features = Counter()\n",
    "    # your code goes maybe also here    \n",
    "    \n",
    "    def fit_transform(self, corpus: list):\n",
    "        \"\"\"Transform list of strings into BoW array.\n",
    "\n",
    "        Parameters\n",
    "        ----------\n",
    "        corpus: List[str]\n",
    "                Corpus of texts to be transforrmed\n",
    "\n",
    "        Returns\n",
    "        -------\n",
    "        np.array\n",
    "                Matrix representation of BoW\n",
    "\n",
    "        \"\"\"\n",
    "        for word in self.__nlp(\"\".join(corpus)):\n",
    "            self.features[str(word)] += 1\n",
    "                    \n",
    "        return list(self.features.values())      \n",
    "\n",
    "    def get_feature_names(self) -> list:\n",
    "        \"\"\"Return words corresponding to columns of matrix.\n",
    "\n",
    "        Returns\n",
    "        -------\n",
    "        List[str]\n",
    "                Words being transformed by fit function\n",
    "\n",
    "        \"\"\"\n",
    "        return list(self.features.keys())\n",
    "\n",
    "corpus = [\n",
    "     'Bag Of Words is based on counting',\n",
    "     'words occurences throughout multiple documents.',\n",
    "     'This is the third document.',\n",
    "     'As you can see most of the words occur only once.',\n",
    "     'This gives us a pretty sparse matrix, see below. Really, see below',\n",
    "]    \n",
    "    \n",
    "vectorizer = BagOfWords()\n",
    "\n",
    "X = vectorizer.fit_transform(corpus)\n",
    "print(X)\n",
    "\n",
    "print(vectorizer.get_feature_names())\n",
    "len(vectorizer.get_feature_names())"
   ]
  },
  {
   "cell_type": "markdown",
   "metadata": {},
   "source": [
    "## Exercise 5. Build a 5-gram model and clean up the results.\n",
    "\n",
    "There are three tasks to do:\n",
    "1. Use 5-gram model instead of 3.\n",
    "2. Change to capital letter each first letter of a sentence.\n",
    "3. Remove the whitespace between the last word in a sentence and . ! or ?.\n",
    "\n",
    "Hint: for 2. and 3. implement a function called ``clean_generated()`` that takes the generated text and fix both issues at once. It could be easier to fix the text after it's generated rather then doing some changes in the while loop."
   ]
  },
  {
   "cell_type": "code",
   "execution_count": 16,
   "metadata": {},
   "outputs": [],
   "source": [
    "from nltk.book import *\n",
    "\n",
    "wall_street = text7.tokens\n",
    "\n",
    "import re\n",
    "\n",
    "tokens = wall_street\n",
    "\n",
    "def cleanup():\n",
    "    compiled_pattern = re.compile(\"^[a-zA-Z0-9.!?]\")\n",
    "    clean = list(filter(compiled_pattern.match,tokens))\n",
    "    return clean\n",
    "tokens = cleanup()\n",
    "\n",
    "def build_ngrams():\n",
    "    ngrams = []\n",
    "    for i in range(len(tokens)-N+1):\n",
    "        ngrams.append(tokens[i:i+N])\n",
    "    return ngrams\n",
    "\n",
    "def ngram_freqs(ngrams):\n",
    "    counts = {}\n",
    "\n",
    "    for ngram in ngrams:\n",
    "        token_seq  = SEP.join(ngram[:-1])\n",
    "        last_token = ngram[-1]\n",
    "\n",
    "        if token_seq not in counts:\n",
    "            counts[token_seq] = {}\n",
    "\n",
    "        if last_token not in counts[token_seq]:\n",
    "            counts[token_seq][last_token] = 0\n",
    "\n",
    "        counts[token_seq][last_token] += 1;\n",
    "\n",
    "    return counts\n",
    "\n",
    "def next_word(text, N, counts):\n",
    "\n",
    "    token_seq = SEP.join(text.split()[-(N-1):]);\n",
    "    choices = counts[token_seq].items();\n",
    "\n",
    "    total = sum(weight for choice, weight in choices)\n",
    "    r = random.uniform(0, total)\n",
    "    upto = 0\n",
    "    for choice, weight in choices:\n",
    "        upto += weight;\n",
    "        if upto > r: return choice\n",
    "    assert False # should not reach here"
   ]
  },
  {
   "cell_type": "code",
   "execution_count": 54,
   "metadata": {},
   "outputs": [
    {
     "name": "stdout",
     "output_type": "stream",
     "text": [
      "report and then faltered . This market still going through its pains said Philip Puccio head of equity trading at Prudential-Bache Securities . The psychology is still We want stocks up but if they do n't carry we going to sell them . Uncertainty about the prospects for further action to curtail stock-index arbitrage a form of program trading for their own accounts . Morgan Stanley last week joined a growing list of U.S.\n",
      "\n",
      "\n",
      "Report and then faltered. This market still going through its pains said Philip Puccio head of equity trading at Prudential-Bache Securities. The psychology is still We want stocks up but if they do n't carry we going to sell them. Uncertainty about the prospects for further action to curtail stock-index arbitrage a form of program trading for their own accounts. Morgan Stanley last week joined a growing list of .S\n"
     ]
    }
   ],
   "source": [
    "def clean_generated(text):\n",
    "    cleaned = ''\n",
    "    for sentence3 in text.split('.'):\n",
    "        for sentence2 in sentence3.split('!'):\n",
    "            for sentence in sentence2.split('?'):\n",
    "                sentence.lstrip()\n",
    "                sentence.rstrip()\n",
    "                if sentence:\n",
    "                    cleaned += sentence[0].upper() + sentence[1:-1] + '.'\n",
    "        \n",
    "    return cleaned[:-1]\n",
    "\n",
    "N=5 # fix it for other value of N\n",
    "\n",
    "SEP=\" \"\n",
    "\n",
    "sentence_count=5\n",
    "\n",
    "ngrams = build_ngrams()\n",
    "start_seq= None\n",
    "\n",
    "counts = ngram_freqs(ngrams)\n",
    "\n",
    "if start_seq is None: start_seq = random.choice(list(counts.keys()))\n",
    "generated = start_seq.lower();\n",
    "\n",
    "sentences = 0\n",
    "while sentences < sentence_count:\n",
    "    generated += SEP + next_word(generated, N, counts)\n",
    "    sentences += 1 if generated.endswith(('.','!', '?')) else 0\n",
    "\n",
    "# put your code here:\n",
    "\n",
    "print(generated)\n",
    "print(\"\\n\")\n",
    "print(clean_generated(generated))"
   ]
  },
  {
   "cell_type": "code",
   "execution_count": null,
   "metadata": {},
   "outputs": [],
   "source": []
  },
  {
   "cell_type": "code",
   "execution_count": null,
   "metadata": {},
   "outputs": [],
   "source": []
  },
  {
   "cell_type": "code",
   "execution_count": null,
   "metadata": {},
   "outputs": [],
   "source": []
  }
 ],
 "metadata": {
  "kernelspec": {
   "display_name": "Python 3",
   "language": "python",
   "name": "python3"
  },
  "language_info": {
   "codemirror_mode": {
    "name": "ipython",
    "version": 3
   },
   "file_extension": ".py",
   "mimetype": "text/x-python",
   "name": "python",
   "nbconvert_exporter": "python",
   "pygments_lexer": "ipython3",
   "version": "3.7.3"
  }
 },
 "nbformat": 4,
 "nbformat_minor": 2
}
